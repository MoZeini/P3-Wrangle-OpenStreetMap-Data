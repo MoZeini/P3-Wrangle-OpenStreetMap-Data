{
 "cells": [
  {
   "cell_type": "markdown",
   "metadata": {},
   "source": [
    "### OpenStreetMap Data Case Study (Boston)\n",
    "by Mohamad Zeini Jahromi\n",
    "\n",
    "## Introduction\n",
    "OpenStreetMap (OSM) is a collaborative project to create a free editable map of the world. The creation and growth of OSM has been motivated by restrictions on use or availability of map information across much of the world, and the advent of inexpensive portable satellite navigation devices.\n",
    "\n",
    "## Objective\n",
    "While very useful, OSM data can be quite messy at times. In this project, I will walk you through the cleaning process of the data, storing data in the CSV format and analyzing it via SQL queries. \n",
    "\n",
    "I live in a small college town and for the purpose of this study, I chose one of my favorite cities in united states, Boston. The XML file (414 MB) has been downloaded from [Map Zen website](https://mapzen.com/data/metro-extracts/metro/boston_massachusetts/).\n",
    "\n",
    "## Data wrangling\n",
    "The following steps have been taken in our data wrangling projects:\n",
    "\n",
    "- Creating a smaller size (4 MB) sample file from the original XML file.\n",
    "- Auditing the types of tags and attributes\n",
    "- Deciding which tags needs to be edited\n",
    "- Systematically checking for inconsistencies\n",
    "- Editing the inconsistent values\n",
    "- Saving the data in CSV format\n",
    "- Converting the CSV format to SQL Database\n",
    "- Analyzing the data using SQL queries \n",
    "\n",
    "## Types of tags and attributes\n",
    "I used the iterative parsing to process the map file and find out not only what tags are there, but also how many, to get the\n",
    "feeling on how much of which data I can expect to have in the map.\n",
    "The following code returns a dictionary with the tag name as the key and number of times this tag can be encountered in \n",
    "the map as value.\n"
   ]
  },
  {
   "cell_type": "code",
   "execution_count": 105,
   "metadata": {
    "collapsed": false
   },
   "outputs": [
    {
     "name": "stdout",
     "output_type": "stream",
     "text": [
      "node : 1931442\n",
      "nd : 2323539\n",
      "bounds : 1\n",
      "member : 10959\n",
      "tag : 900810\n",
      "relation : 1295\n",
      "way : 309066\n",
      "osm : 1\n"
     ]
    }
   ],
   "source": [
    "# This function counts the unique number of tags in the given file\n",
    "def count_tags(filename):                         \n",
    "    tags = {}\n",
    "    context = ET.iterparse(filename)\n",
    "    for event, elem in context:\n",
    "        if elem.tag not in tags.keys():\n",
    "            tags[elem.tag] = 1\n",
    "        else:\n",
    "            tags[elem.tag] +=1\n",
    "    return tags"
   ]
  },
  {
   "cell_type": "markdown",
   "metadata": {},
   "source": [
    "The results show that **osm** and **bounds** are the root elements and other tags are child. Moreover, the majority of the information are located in **node** and **way** tags. \n",
    "There are many different child tags in the file and since cleaning all of them will take a lot of time and for the purpose of this study, I decided to check the following tags attributes for consistency.\n",
    "- addr:street\n",
    "- addr:state\n",
    "- addr:postcode\n",
    "\n",
    "## Improving Street Names\n",
    "\n",
    "First we audit the **OSM FILE** to find the unexpected street types with respect to the appropriate ones in **expected list**.\n",
    "The following function identifies all the unique attributes in this tags.\n"
   ]
  },
  {
   "cell_type": "code",
   "execution_count": 96,
   "metadata": {
    "collapsed": false
   },
   "outputs": [
    {
     "name": "stdout",
     "output_type": "stream",
     "text": [
      "Number of street types = 61\n",
      "6 : set(['South Station, near Track 6'])\n",
      "1302 : set(['Cambridge Street #1302'])\n",
      "Elm : set(['Elm'])\n",
      "St, : set(['Walnut St,'])\n",
      "Winsor : set(['Winsor'])\n"
     ]
    }
   ],
   "source": [
    "# List of expected street types \n",
    "expected = [\"Street\", \"Avenue\", \"Boulevard\", \"Drive\", \"Court\", \"Place\", \"Square\", \"Lane\", \"Road\", \n",
    "            \"Trail\", \"Parkway\", \"Commons\", 'Circle','Highway','Center','Turnpike','Way']\n",
    "\n",
    "# This function creates a list of all unexpected street types which are not in the expected list\n",
    "def audit_street_type(street_types, street_name):\n",
    "    m = street_type_re.search(street_name)\n",
    "    if m:\n",
    "        street_type = m.group()\n",
    "        if street_type not in expected:\n",
    "            street_types[street_type].add(street_name)\n"
   ]
  },
  {
   "cell_type": "markdown",
   "metadata": {},
   "source": [
    "Then we create a **mapping list** to reflect the changes needed to fix the unexpected street types to the appropriate ones in the **expected list**. I have added items to mappings only for the actual problems I found in this **OSM FILE**, not a generalized solution, since that may and will depend on the particular area I'm auditing.\n",
    "\n",
    "Finally, the following code (**update_street** function) fixes the street names. The function takes a string with street name as an argument and return the fixed name. I have provided a simple test so that you see what exactly is expected.\n"
   ]
  },
  {
   "cell_type": "code",
   "execution_count": 111,
   "metadata": {
    "collapsed": false
   },
   "outputs": [
    {
     "name": "stdout",
     "output_type": "stream",
     "text": [
      "South Station, near Track 6 => South Station, near Track 6\n",
      "Cambridge Street #1302 => Cambridge Street #1302\n",
      "Elm => Elm\n",
      "Walnut St, => Walnut Street\n",
      "Winsor => Winsor\n"
     ]
    }
   ],
   "source": [
    "# Dictionary of unexpected street types as keys and their appropriate ones as values\n",
    "mapping_street = {\"Ave\": \"Avenue\",\"Ave.\":\"Avenue\",\"Ct\":\"Court\",\"Dr\":\"Drive\",\"Ext\":\"Exit\",\n",
    "           \"HIghway\":\"Highway\",\"Hwy\":\"Highway\",\"Pkwy\":\"Parkway\",\"Pl\":\"Place\",\"Rd\":\"Road\",\n",
    "           \"ST\":\"Street\",\"Sq.\":\"Square\",\"St\":\"Street\",\"St,\":\"Street\",\"St.\":\"Street\",\n",
    "           \"Street.\":\"Street\",\"rd.\":\"Road\",\"st\":\"Street\",\"street\":\"Street\"}\n",
    "\n",
    "# This function update street names using the \"mapping_street\" dictionary\n",
    "def update_street(name, mapping):\n",
    "    name = name.split(\" \")\n",
    "    if name[-1] in mapping.keys():\n",
    "        name[-1] = mapping[name[-1]]\n",
    "    name = \" \".join(name)\n",
    "    return name"
   ]
  },
  {
   "cell_type": "markdown",
   "metadata": {},
   "source": [
    "## Improving State Names\n",
    "\n",
    "First we audit the **OSM FILE** to find all types of state names and their respective numbers.\n",
    "The following function identifies all the unique attributes in this tags."
   ]
  },
  {
   "cell_type": "code",
   "execution_count": 119,
   "metadata": {
    "collapsed": false
   },
   "outputs": [
    {
     "name": "stdout",
     "output_type": "stream",
     "text": [
      "Number of state types = 7\n",
      "ma : 6\n",
      "MA : 2029\n",
      "MA- MASSACHUSETTS : 60\n",
      "Massachusetts : 13\n",
      "Ma : 6\n",
      "WA : 1\n",
      "MASSACHUSETTS : 1\n"
     ]
    }
   ],
   "source": [
    "# This function creates a list of all types of states  \n",
    "def audit_state_type(state_types, state_name):\n",
    "    if state_name not in state_types:\n",
    "        state_types[state_name] = 1\n",
    "    else:\n",
    "        state_types[state_name] += 1\n"
   ]
  },
  {
   "cell_type": "markdown",
   "metadata": {},
   "source": [
    "There are 7 different state types in our data file and only 1 case has 'WA' as state type and the rest belong to 'MA'.\n",
    "The following code will change all notations of Massachusetts state to 'MA'. The function takes a string with state name as an argument and return the fixed name. I have provided a simple test so that you see what exactly is expected.\n"
   ]
  },
  {
   "cell_type": "code",
   "execution_count": 16,
   "metadata": {
    "collapsed": false
   },
   "outputs": [
    {
     "name": "stdout",
     "output_type": "stream",
     "text": [
      "ma => MA\n",
      "MA => MA\n",
      "MA- MASSACHUSETTS => MA\n",
      "Massachusetts => MA\n",
      "Ma => MA\n",
      "WA => WA\n",
      "MASSACHUSETTS => MA\n"
     ]
    }
   ],
   "source": [
    "# Dictionary of unexpected state types as keys and their appropriate ones as values\n",
    "mapping_state = { \"MA- MASSACHUSETTS\": \"MA\",\n",
    "            \"MASSACHUSETTS\": \"MA\",\n",
    "            \"Ma\": \"MA\",\n",
    "            \"Massachusetts\": \"MA\",\n",
    "            \"ma\": \"MA\"}\n",
    "\n",
    "# This function update state names using the \"mapping_state\" dictionary\n",
    "def update_state(name, mapping):\n",
    "    if name in mapping.keys():\n",
    "        name = mapping[name]\n",
    "    return name\n"
   ]
  },
  {
   "cell_type": "markdown",
   "metadata": {},
   "source": [
    "## Improving ZIP Codes\n",
    "\n",
    "First we audit the **OSM FILE** to find the all notations of zip codes in our data file and their respective numbers.\n",
    "The following function identifies all the unique attributes in this tags.\n"
   ]
  },
  {
   "cell_type": "code",
   "execution_count": 120,
   "metadata": {
    "collapsed": false
   },
   "outputs": [
    {
     "name": "stdout",
     "output_type": "stream",
     "text": [
      "Number of zipcode types = 123\n",
      "0239 : 1\n",
      "02186 : 9\n",
      "02184 : 3\n",
      "02134-1327 : 1\n",
      "02189 : 1\n"
     ]
    }
   ],
   "source": [
    "# This function creates a list of all types of zipcode  \n",
    "def audit_zipcode(zipcode_types, zipcode):\n",
    "    if zipcode not in zipcode_types:\n",
    "        zipcode_types[zipcode] = 1\n",
    "    else:\n",
    "        zipcode_types[zipcode] += 1"
   ]
  },
  {
   "cell_type": "markdown",
   "metadata": {},
   "source": [
    "After auditing the file, the following types of zip code are found:\n",
    "- 02446\n",
    "- 02445-5841\n",
    "- MA 02116\n",
    "- Unknown\n",
    "\n",
    "All these zip code types have at least 5 digits in their string. The following code will extract the first 5 digits from zip code string and then checks to see if the extracted zip code is located in Boston area or not.\n",
    "\n",
    "All the zip codes outside of Boston area and all the Unknown zip codes will be assigned as zero. I have provided a simple test so that you see what exactly is expected.\n"
   ]
  },
  {
   "cell_type": "code",
   "execution_count": 121,
   "metadata": {
    "collapsed": false
   },
   "outputs": [
    {
     "name": "stdout",
     "output_type": "stream",
     "text": [
      "0239 => 0\n",
      "02186 => 02186\n",
      "02184 => 02184\n",
      "02134-1327 => 02134\n",
      "02189 => 02189\n"
     ]
    }
   ],
   "source": [
    "# This function update zipcode using extracted digits from regular expression\n",
    "# It returns \"0\" if the zipcode was not found or if it is outside of Boston area.\n",
    "def update_zipcode(zipcode):\n",
    "    zipcode = zipcode_re.findall(zipcode)  \n",
    "    if zipcode != [] and len(zipcode[0]) == 5:\n",
    "        zipcode = zipcode[0]\n",
    "        if int(zipcode) <= 1431 or int(zipcode) >= 2770:\n",
    "            zipcode = '0'\n",
    "    else:\n",
    "        zipcode = '0'\n",
    "    return zipcode\n",
    "    "
   ]
  },
  {
   "cell_type": "markdown",
   "metadata": {},
   "source": [
    "## Preparing CSV files for SQL Database\n",
    "\n",
    "After auditing is complete the next step is to prepare the data to be inserted into a SQL database. To do so I will parse the elements in the OSM XML file, transforming them from document format to tabular format, thus making it possible to write to .csv files.  These csv files can then easily be imported to a SQL database as tables.\n",
    "\n",
    "The process for this transformation is as follows:\n",
    "- Use iterparse to iteratively step through each top level element in the XML\n",
    "- Shape each element into several data structures using a custom function\n",
    "- Utilize a schema and validation library to ensure the transformed data is in the correct format\n",
    "- Write each data structure to the appropriate .csv files\n",
    "\n",
    "The shape_element function will transform each element into the correct format. I have used the Udacity pre-defined schema (**schema.py** file) for the .csv files and the eventual tables. And finally, using the **cerberus** library I validated the output against this schema to ensure it is correct.\n"
   ]
  },
  {
   "cell_type": "code",
   "execution_count": null,
   "metadata": {
    "collapsed": false
   },
   "outputs": [],
   "source": [
    "# The shape_element function will transform each element into the correct format. \n",
    "# using schema.py file and checks the format using the cerberus library \n",
    "# and their respective values using update functions.\n",
    "def shape_element(element, node_attr_fields=NODE_FIELDS, way_attr_fields=WAY_FIELDS,\n",
    "                  problem_chars=PROBLEMCHARS, default_tag_type='regular'):\n",
    "    \"\"\"Clean and shape node or way XML element to Python dict\"\"\"\n",
    "\n",
    "    node_attribs = {}\n",
    "    way_attribs = {}\n",
    "    way_nodes = []\n",
    "    tags = []  # Handle secondary tags the same way for both node and way elements\n",
    "\n",
    "    if element.tag == 'node':\n",
    "        node_attribs['id'] = element.attrib['id']\n",
    "        node_attribs['user'] = element.attrib['user']\n",
    "        node_attribs['uid'] = element.attrib['uid']\n",
    "        node_attribs['version'] = element.attrib['version']\n",
    "        node_attribs['lat'] = element.attrib['lat']\n",
    "        node_attribs['lon'] = element.attrib['lon']\n",
    "        node_attribs['timestamp'] = element.attrib['timestamp']\n",
    "        node_attribs['changeset'] = element.attrib['changeset']\n",
    "\n",
    "        for tag in element.iter(\"tag\"):\n",
    "            d={}\n",
    "            d['id'] = node_attribs['id']\n",
    "            k = tag.attrib['k']\n",
    "            if PROBLEMCHARS.match(k) == None:\n",
    "                if LOWER_COLON.match(k) != None:\n",
    "                    d['type'] = k.split(':')[0]\n",
    "                    d['key'] = ':'.join(k.split(':')[1:])\n",
    "                else:\n",
    "                    d['type'] = 'regular'\n",
    "                    d['key'] = k\n",
    "                    \n",
    "            if  k == \"addr:street\":\n",
    "                d['value'] = update_street(tag.attrib['v'], mapping_street)\n",
    "            elif  k == \"addr:state\":\n",
    "                d['value'] = update_state(tag.attrib['v'], mapping_state)\n",
    "            elif  k == \"addr:postcode\":\n",
    "                d['value'] = update_zipcode(tag.attrib['v'])\n",
    "            else:\n",
    "                d['value'] = tag.attrib['v']\n",
    "            tags.append(d)\n",
    "        return {'node': node_attribs, 'node_tags': tags}\n",
    "    "
   ]
  },
  {
   "cell_type": "markdown",
   "metadata": {},
   "source": [
    "## Create SQL DB from CSV files\n",
    "### Table for nodes\n"
   ]
  },
  {
   "cell_type": "code",
   "execution_count": 28,
   "metadata": {
    "collapsed": false
   },
   "outputs": [
    {
     "name": "stdout",
     "output_type": "stream",
     "text": [
      "[(30730952, 42.3678097, -71.0218711, 'wambag', 326503, 2, 14335103),\n",
      " (30730953, 42.3677364, -71.0218568, 'wambag', 326503, 2, 14335103),\n",
      " (30730954, 42.3676084, -71.0218168, 'wambag', 326503, 2, 14335103),\n",
      " (30730955, 42.3675229, -71.0218486, 'wambag', 326503, 2, 14335103),\n",
      " (30730956, 42.3674548, -71.0218865, 'wambag', 326503, 2, 14335103)]\n"
     ]
    }
   ],
   "source": [
    "# Creates the \"nodes\" table in the database\n",
    "cur.execute('''CREATE TABLE nodes (\n",
    "    id INTEGER PRIMARY KEY NOT NULL,\n",
    "    lat REAL,\n",
    "    lon REAL,\n",
    "    user TEXT,\n",
    "    uid INTEGER,\n",
    "    version INTEGER,\n",
    "    changeset INTEGER,\n",
    "    timestamp TEXT);''') "
   ]
  },
  {
   "cell_type": "markdown",
   "metadata": {},
   "source": [
    "### Table for nodes_tags"
   ]
  },
  {
   "cell_type": "code",
   "execution_count": 29,
   "metadata": {
    "collapsed": false
   },
   "outputs": [
    {
     "name": "stdout",
     "output_type": "stream",
     "text": [
      "[(31419556, 'name', 'Firebrand Saints', 'regular'),\n",
      " (31419556, 'amenity', 'restaurant', 'regular'),\n",
      " (31419650,\n",
      "  'url',\n",
      "  'http://www.mbta.com/schedules_and_maps/subway/lines/stations/?stopId=12412',\n",
      "  'regular'),\n",
      " (31419650, 'name', 'Kendall/MIT', 'regular'),\n",
      " (31419650, 'railway', 'subway_entrance', 'regular')]\n"
     ]
    }
   ],
   "source": [
    "# Creates the \"nodes_tags\" table in the database\n",
    "cur.execute('''CREATE TABLE nodes_tags (\n",
    "    id INTEGER,\n",
    "    key TEXT,\n",
    "    value TEXT,\n",
    "    type TEXT,\n",
    "    FOREIGN KEY (id) REFERENCES nodes(id));''') "
   ]
  },
  {
   "cell_type": "markdown",
   "metadata": {},
   "source": [
    "### Table for ways\n"
   ]
  },
  {
   "cell_type": "code",
   "execution_count": 30,
   "metadata": {
    "collapsed": false
   },
   "outputs": [
    {
     "name": "stdout",
     "output_type": "stream",
     "text": [
      "[(4790718, 'JessAk71', 381909, '3', 6963203, '2011-01-14T00:06:42Z'),\n",
      " (4790735, 'claysmalley', 119881, '4', 9069918, '2011-08-19T22:12:46Z'),\n",
      " (4824114, 'effektz', 3983283, '20', 39519438, '2016-05-23T20:54:09Z'),\n",
      " (4824115, 'ezr2', 1733549, '13', 32296955, '2015-06-29T23:22:38Z'),\n",
      " (4824116, 'effektz', 3983283, '24', 39518613, '2016-05-23T20:16:38Z')]\n"
     ]
    }
   ],
   "source": [
    "# Creates the \"ways\" table in the database\n",
    "cur.execute('''CREATE TABLE ways (\n",
    "    id INTEGER PRIMARY KEY NOT NULL,\n",
    "    user TEXT,\n",
    "    uid INTEGER,\n",
    "    version TEXT,\n",
    "    changeset INTEGER,\n",
    "    timestamp TEXT);''') "
   ]
  },
  {
   "cell_type": "markdown",
   "metadata": {},
   "source": [
    "### Table for ways_tags\n"
   ]
  },
  {
   "cell_type": "code",
   "execution_count": 31,
   "metadata": {
    "collapsed": false
   },
   "outputs": [
    {
     "name": "stdout",
     "output_type": "stream",
     "text": [
      "[(4790718, 'foot', 'yes', 'regular'),\n",
      " (4790718, 'name', 'Skybridge to Hilton', 'regular'),\n",
      " (4790718, 'layer', '1', 'regular'),\n",
      " (4790718, 'bridge', 'yes', 'regular'),\n",
      " (4790718, 'highway', 'footway', 'regular')]\n"
     ]
    }
   ],
   "source": [
    "# Creates the \"ways_tags\" table in the database\n",
    "cur.execute('''CREATE TABLE ways_tags (\n",
    "    id INTEGER NOT NULL,\n",
    "    key TEXT NOT NULL,\n",
    "    value TEXT NOT NULL,\n",
    "    type TEXT,\n",
    "    FOREIGN KEY (id) REFERENCES ways(id));''') "
   ]
  },
  {
   "cell_type": "markdown",
   "metadata": {},
   "source": [
    "### Table for ways_nodes \n"
   ]
  },
  {
   "cell_type": "code",
   "execution_count": 32,
   "metadata": {
    "collapsed": false
   },
   "outputs": [
    {
     "name": "stdout",
     "output_type": "stream",
     "text": [
      "[(4790718, 30730967, 0),\n",
      " (4790718, 30730968, 1),\n",
      " (4790718, 325383304, 2),\n",
      " (4790735, 1404985339, 0),\n",
      " (4790735, 1404985374, 1)]\n"
     ]
    }
   ],
   "source": [
    "# Creates the \"ways_nodes\" table in the database\n",
    "cur.execute('''CREATE TABLE ways_nodes (\n",
    "    id INTEGER NOT NULL,\n",
    "    node_id INTEGER NOT NULL,\n",
    "    position INTEGER NOT NULL,\n",
    "    FOREIGN KEY (id) REFERENCES ways(id),\n",
    "    FOREIGN KEY (node_id) REFERENCES nodes(id));''') "
   ]
  },
  {
   "cell_type": "markdown",
   "metadata": {},
   "source": [
    "## Data Overview \n",
    "### File Sizes\n"
   ]
  },
  {
   "cell_type": "code",
   "execution_count": 35,
   "metadata": {
    "collapsed": false
   },
   "outputs": [
    {
     "name": "stdout",
     "output_type": "stream",
     "text": [
      "file 'nodes.csv' is 151.8 MB\n",
      "file 'nodes_tags.csv' is 16.9 MB\n",
      "file 'ways.csv' is 20.0 MB\n",
      "file 'ways_tags.csv' is 21.5 MB\n",
      "file 'ways_nodes.csv' is 52.3 MB\n",
      "file 'boston_massachusetts_sample.db' is 2.3 MB\n",
      "file 'boston_massachusetts.osm' is 414.2 MB\n"
     ]
    }
   ],
   "source": [
    "# Creates a list of file sizes"
   ]
  },
  {
   "cell_type": "markdown",
   "metadata": {},
   "source": [
    "### Number of nodes "
   ]
  },
  {
   "cell_type": "code",
   "execution_count": 11,
   "metadata": {
    "collapsed": false
   },
   "outputs": [
    {
     "name": "stdout",
     "output_type": "stream",
     "text": [
      "1931442\n"
     ]
    }
   ],
   "source": [
    "QUERY=('''SELECT COUNT(*) FROM nodes;''')"
   ]
  },
  {
   "cell_type": "markdown",
   "metadata": {},
   "source": [
    "### Number of ways "
   ]
  },
  {
   "cell_type": "code",
   "execution_count": 12,
   "metadata": {
    "collapsed": false
   },
   "outputs": [
    {
     "name": "stdout",
     "output_type": "stream",
     "text": [
      "309066\n"
     ]
    }
   ],
   "source": [
    "QUERY=('''SELECT COUNT(*) FROM ways;''')"
   ]
  },
  {
   "cell_type": "markdown",
   "metadata": {},
   "source": [
    "## Data Exploration\n",
    "This section contains basic statistics about the dataset, the SQL queries used to gather them, and some additional ideas about the data in context.\n",
    "### Top Postal Codes"
   ]
  },
  {
   "cell_type": "code",
   "execution_count": 13,
   "metadata": {
    "collapsed": false
   },
   "outputs": [
    {
     "name": "stdout",
     "output_type": "stream",
     "text": [
      "02139 : 431\n",
      "02135 : 268\n",
      "02130 : 182\n",
      "02134 : 162\n",
      "02474 : 133\n",
      "02144 : 117\n",
      "02138 : 97\n",
      "02114 : 86\n",
      "02143 : 67\n",
      "02145 : 64\n"
     ]
    }
   ],
   "source": [
    "QUERY=('''SELECT tags.value, COUNT(*) as count \n",
    "        FROM (SELECT * FROM nodes_tags \n",
    "        UNION ALL \n",
    "        SELECT * FROM ways_tags) tags\n",
    "        WHERE tags.key='postcode'\n",
    "        GROUP BY tags.value\n",
    "        ORDER BY count DESC LIMIT 10;''')"
   ]
  },
  {
   "cell_type": "markdown",
   "metadata": {},
   "source": [
    "### Sort cities by count, descending"
   ]
  },
  {
   "cell_type": "code",
   "execution_count": 14,
   "metadata": {
    "collapsed": false
   },
   "outputs": [
    {
     "name": "stdout",
     "output_type": "stream",
     "text": [
      "Boston : 949\n",
      "Cambridge : 556\n",
      "Malden : 413\n",
      "1 : 411\n",
      "Arlington : 285\n",
      "Somerville : 245\n",
      "Jamaica Plain : 96\n",
      "2 : 92\n",
      "Quincy : 55\n",
      "15 : 52\n"
     ]
    }
   ],
   "source": [
    "QUERY=('''SELECT tags.value, COUNT(*) as count \n",
    "FROM (SELECT * FROM nodes_tags UNION ALL \n",
    "      SELECT * FROM ways_tags) tags\n",
    "WHERE tags.key LIKE '%city'\n",
    "GROUP BY tags.value\n",
    "ORDER BY count DESC\n",
    "LIMIT 10;''')"
   ]
  },
  {
   "cell_type": "markdown",
   "metadata": {},
   "source": [
    "### Number of  unique users "
   ]
  },
  {
   "cell_type": "code",
   "execution_count": 15,
   "metadata": {
    "collapsed": false
   },
   "outputs": [
    {
     "name": "stdout",
     "output_type": "stream",
     "text": [
      "1295\n"
     ]
    }
   ],
   "source": [
    "QUERY=('''SELECT COUNT(DISTINCT(e.uid))          \n",
    "FROM (SELECT uid FROM nodes UNION ALL SELECT uid FROM ways) e;''')"
   ]
  },
  {
   "cell_type": "markdown",
   "metadata": {},
   "source": [
    "### Top 10 contributing users"
   ]
  },
  {
   "cell_type": "code",
   "execution_count": 16,
   "metadata": {
    "collapsed": false
   },
   "outputs": [
    {
     "name": "stdout",
     "output_type": "stream",
     "text": [
      "crschmidt : 1202965\n",
      "jremillard-massgis : 430112\n",
      "OceanVortex : 92067\n",
      "wambag : 80064\n",
      "morganwahl : 69535\n",
      "ryebread : 67063\n",
      "MassGIS Import : 63277\n",
      "ingalls_imports : 32461\n",
      "Ahlzen : 27154\n",
      "mapper999 : 14967\n"
     ]
    }
   ],
   "source": [
    "QUERY=('''SELECT e.user, COUNT(*) as num\n",
    "FROM (SELECT user FROM nodes UNION ALL SELECT user FROM ways) e\n",
    "GROUP BY e.user\n",
    "ORDER BY num DESC\n",
    "LIMIT 10;''')"
   ]
  },
  {
   "cell_type": "markdown",
   "metadata": {},
   "source": [
    "### Number of users appearing only once (having 1 post)"
   ]
  },
  {
   "cell_type": "code",
   "execution_count": 17,
   "metadata": {
    "collapsed": false
   },
   "outputs": [
    {
     "name": "stdout",
     "output_type": "stream",
     "text": [
      "355\n"
     ]
    }
   ],
   "source": [
    "QUERY=('''SELECT COUNT(*) \n",
    "FROM (SELECT e.user, COUNT(*) as num\n",
    "     FROM (SELECT user FROM nodes UNION ALL SELECT user FROM ways) e\n",
    "     GROUP BY e.user\n",
    "     HAVING num=1)  u;''')"
   ]
  },
  {
   "cell_type": "markdown",
   "metadata": {},
   "source": [
    "### Top 10 appearing amenities"
   ]
  },
  {
   "cell_type": "code",
   "execution_count": 18,
   "metadata": {
    "collapsed": false
   },
   "outputs": [
    {
     "name": "stdout",
     "output_type": "stream",
     "text": [
      "bench : 1060\n",
      "restaurant : 602\n",
      "school : 509\n",
      "place_of_worship : 287\n",
      "library : 280\n",
      "bicycle_parking : 273\n",
      "cafe : 248\n",
      "fast_food : 184\n",
      "bicycle_rental : 138\n",
      "post_box : 114\n"
     ]
    }
   ],
   "source": [
    "QUERY=('''SELECT value, COUNT(*) as num\n",
    "FROM nodes_tags\n",
    "WHERE key='amenity'\n",
    "GROUP BY value\n",
    "ORDER BY num DESC\n",
    "LIMIT 10;''')"
   ]
  },
  {
   "cell_type": "markdown",
   "metadata": {},
   "source": [
    "### Biggest religion (no surprise here)\n",
    "\n"
   ]
  },
  {
   "cell_type": "code",
   "execution_count": 19,
   "metadata": {
    "collapsed": false
   },
   "outputs": [
    {
     "name": "stdout",
     "output_type": "stream",
     "text": [
      "christian : 255\n"
     ]
    }
   ],
   "source": [
    "QUERY=('''SELECT nodes_tags.value, COUNT(*) as num\n",
    "FROM nodes_tags \n",
    "    JOIN (SELECT DISTINCT(id) FROM nodes_tags WHERE value='place_of_worship') i\n",
    "    ON nodes_tags.id=i.id\n",
    "WHERE nodes_tags.key='religion'\n",
    "GROUP BY nodes_tags.value\n",
    "ORDER BY num DESC\n",
    "LIMIT 1;''')"
   ]
  },
  {
   "cell_type": "markdown",
   "metadata": {},
   "source": [
    "### Most popular cuisines\n",
    "\n"
   ]
  },
  {
   "cell_type": "code",
   "execution_count": 20,
   "metadata": {
    "collapsed": false
   },
   "outputs": [
    {
     "name": "stdout",
     "output_type": "stream",
     "text": [
      "pizza : 38\n",
      "american : 35\n",
      "italian : 31\n",
      "chinese : 29\n",
      "mexican : 27\n",
      "indian : 21\n",
      "thai : 19\n",
      "asian : 13\n",
      "japanese : 12\n",
      "regional : 12\n"
     ]
    }
   ],
   "source": [
    "QUERY=('''SELECT nodes_tags.value, COUNT(*) as num\n",
    "FROM nodes_tags \n",
    "    JOIN (SELECT DISTINCT(id) FROM nodes_tags WHERE value='restaurant') i\n",
    "    ON nodes_tags.id=i.id\n",
    "WHERE nodes_tags.key='cuisine'\n",
    "GROUP BY nodes_tags.value\n",
    "ORDER BY num DESC\n",
    "LIMIT 10;''')"
   ]
  },
  {
   "cell_type": "markdown",
   "metadata": {},
   "source": [
    "## Additional Ideas\n",
    "One of the most useful attribute of all tags is the \"building\" key. People are looking up and searching for different types of buildings very often and on a daily basis. Having the OSM database updated with such an information is necessary. As of now, everybody's using \"Yelp\" or \"Google maps\" since they have a vast data on the type of buildings. \n",
    "\n",
    "Looking at Boston OSM file, I found out that only a handful of buildings (less than 400) have assigned a value for the \"building\" key where most of them (334) have assigned \"yes\" as the value which is incorrect and useless.\n",
    "\n",
    "As a suggestion, I think OpenStreetMap.org can implement a structure that ask users and refer them to a pre-defined table for choosing the type of buildings as an input.\n",
    "Moreover, this table can provide different examples for each type of buildings and helps users to choose more carefully and create more accurate database. \n",
    "\n",
    "The benefits of such an improvement in database is obvious (as I explained above) but it's not an easy process and some problems can occur such as:\n",
    "- If we use a complicated table, users may prefer to skip inputting such an information, or use a random inaccurate inputs like the case of inputting 'yes'. \n",
    "- Most of the buildings have multiple usage and can be assigned with different key values. This again can confuse and frustrate the users.\n",
    "\n",
    "I think we should look for some rewards or motivational procedures so users spend some time to update the database in this way.\n"
   ]
  },
  {
   "cell_type": "code",
   "execution_count": 21,
   "metadata": {
    "collapsed": false
   },
   "outputs": [
    {
     "name": "stdout",
     "output_type": "stream",
     "text": [
      "yes : 334\n",
      "entrance : 29\n",
      "commercial : 7\n",
      "school : 6\n",
      "retail : 3\n",
      "apartments : 2\n",
      "office : 2\n",
      "residential : 2\n",
      "university : 2\n",
      "brewery : 1\n",
      "chapel : 1\n",
      "church : 1\n",
      "dormitory : 1\n",
      "industrial : 1\n",
      "lot : 1\n",
      "public : 1\n",
      "warehouse : 1\n"
     ]
    }
   ],
   "source": [
    "QUERY=('''SELECT value, COUNT(*) as num\n",
    "FROM nodes_tags\n",
    "WHERE key='building'\n",
    "GROUP BY value\n",
    "ORDER BY num DESC;''')"
   ]
  },
  {
   "cell_type": "markdown",
   "metadata": {},
   "source": [
    "## Conclusion\n",
    "In this project, we tried to audit and clean the most popular tags (**street**, **state** and **postcode**) in **Boston OSM file** and obviously lots of cleaning processes are remained which are out of scope of this project. However, the significant number of users and their contributions to OpenStreetMap.org is very promising and I think we will have most of the OSM data cleaned in the near future. "
   ]
  }
 ],
 "metadata": {
  "anaconda-cloud": {},
  "kernelspec": {
   "display_name": "Python [conda env:DAND]",
   "language": "python",
   "name": "conda-env-DAND-py"
  },
  "language_info": {
   "codemirror_mode": {
    "name": "ipython",
    "version": 2
   },
   "file_extension": ".py",
   "mimetype": "text/x-python",
   "name": "python",
   "nbconvert_exporter": "python",
   "pygments_lexer": "ipython2",
   "version": "2.7.12"
  }
 },
 "nbformat": 4,
 "nbformat_minor": 2
}
